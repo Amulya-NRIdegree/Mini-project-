{
  "nbformat": 4,
  "nbformat_minor": 0,
  "metadata": {
    "colab": {
      "provenance": [],
      "authorship_tag": "ABX9TyMtnOx6XWMIw/c9IJF1rhRE",
      "include_colab_link": true
    },
    "kernelspec": {
      "name": "python3",
      "display_name": "Python 3"
    },
    "language_info": {
      "name": "python"
    }
  },
  "cells": [
    {
      "cell_type": "markdown",
      "metadata": {
        "id": "view-in-github",
        "colab_type": "text"
      },
      "source": [
        "<a href=\"https://colab.research.google.com/github/Amulya-NRIdegree/Mini-project-/blob/main/Exploring%20The%20Basic%20Of%20Numpy.ipynb\" target=\"_parent\"><img src=\"https://colab.research.google.com/assets/colab-badge.svg\" alt=\"Open In Colab\"/></a>"
      ]
    },
    {
      "cell_type": "code",
      "execution_count": null,
      "metadata": {
        "id": "Zseszqqhs2zd"
      },
      "outputs": [],
      "source": [
        "#Numpy _ numeric python\n",
        "#Most powerfull package _ library\n",
        "#Numpy _ Dimensions\n",
        "#A _ one Dimensional Array\n",
        "#[A,B] || [A,\n",
        "         #  B] _ Two Dimensional Array _ Row || column\n",
        "# Three Dimensional\n",
        "#Array _ storing manipulating, similar Data type\n",
        "#Faster than any mathematical functions\n",
        "# Convincent compared to other packages\n",
        "# memory efficiency\n",
        "# support multi dimensional arrays\n",
        "# speed(numpy operations) > speed (lists operations)\n",
        "# size (numpy opretions) > size (lists operations)\n",
        "# memory(numpy)"
      ]
    },
    {
      "cell_type": "code",
      "source": [
        "import numpy as np"
      ],
      "metadata": {
        "id": "iinCOL-Is6ZK"
      },
      "execution_count": 1,
      "outputs": []
    },
    {
      "cell_type": "code",
      "source": [
        "# create a numpy array\n",
        "# 1D array\n",
        "\n",
        "arr1D = np.array([1,2,3,4,5])\n",
        "print(arr1D)"
      ],
      "metadata": {
        "id": "ld_I_NdYs6gk",
        "colab": {
          "base_uri": "https://localhost:8080/"
        },
        "outputId": "02a4a0e3-dbcb-46b1-a97e-a89a18ad6856"
      },
      "execution_count": 4,
      "outputs": [
        {
          "output_type": "stream",
          "name": "stdout",
          "text": [
            "[1 2 3 4 5]\n"
          ]
        }
      ]
    },
    {
      "cell_type": "code",
      "source": [
        "# create 2D array _ matrix\n",
        "arr2D = np.array([\n",
        "     [1,2,3],[4,5,6]\n",
        "  ])\n",
        "print(arr2D)"
      ],
      "metadata": {
        "id": "fm84GWWss5-A",
        "colab": {
          "base_uri": "https://localhost:8080/"
        },
        "outputId": "7d976af8-bd87-4b1e-eb1a-417ae6cf4172"
      },
      "execution_count": 7,
      "outputs": [
        {
          "output_type": "stream",
          "name": "stdout",
          "text": [
            "[[1 2 3]\n",
            " [4 5 6]]\n"
          ]
        }
      ]
    },
    {
      "cell_type": "code",
      "source": [
        "#creating arrays with default values\n",
        "allzeros = np.zeros([2,3])\n",
        "print(allzeros)"
      ],
      "metadata": {
        "id": "mHYUjR9_s57a",
        "colab": {
          "base_uri": "https://localhost:8080/"
        },
        "outputId": "5305776b-2633-449b-ca22-a311ea1d6c77"
      },
      "execution_count": 8,
      "outputs": [
        {
          "output_type": "stream",
          "name": "stdout",
          "text": [
            "[[0. 0. 0.]\n",
            " [0. 0. 0.]]\n"
          ]
        }
      ]
    },
    {
      "cell_type": "code",
      "source": [
        "#creating matrix with values of elements as '1'\n",
        "allones = np.ones([2,3])\n",
        "print(allones)"
      ],
      "metadata": {
        "id": "a4-1Uxc7s6AL",
        "colab": {
          "base_uri": "https://localhost:8080/"
        },
        "outputId": "fe168a77-aeae-4c9f-d45e-dec192a74ec6"
      },
      "execution_count": 9,
      "outputs": [
        {
          "output_type": "stream",
          "name": "stdout",
          "text": [
            "[[1. 1. 1.]\n",
            " [1. 1. 1.]]\n"
          ]
        }
      ]
    },
    {
      "cell_type": "code",
      "source": [
        "#creating matrix with values of elements as 'constant value _ n ~ fill value'\n",
        "allconstant = np.full([2,3],6)\n",
        "print(allconstant)"
      ],
      "metadata": {
        "id": "2AEjpaNqs488",
        "colab": {
          "base_uri": "https://localhost:8080/"
        },
        "outputId": "1bff56de-d0e7-4dde-cd83-0dea45e48c51"
      },
      "execution_count": 10,
      "outputs": [
        {
          "output_type": "stream",
          "name": "stdout",
          "text": [
            "[[6 6 6]\n",
            " [6 6 6]]\n"
          ]
        }
      ]
    },
    {
      "cell_type": "code",
      "source": [
        "#create an identity matrix _ I\n",
        "identity = np.eye(4)\n",
        "print(identity)"
      ],
      "metadata": {
        "id": "B2C7JGX3s4_w",
        "colab": {
          "base_uri": "https://localhost:8080/"
        },
        "outputId": "204db3b8-2719-41cd-88a6-85f996fc9606"
      },
      "execution_count": 11,
      "outputs": [
        {
          "output_type": "stream",
          "name": "stdout",
          "text": [
            "[[1. 0. 0. 0.]\n",
            " [0. 1. 0. 0.]\n",
            " [0. 0. 1. 0.]\n",
            " [0. 0. 0. 1.]]\n"
          ]
        }
      ]
    },
    {
      "cell_type": "code",
      "source": [
        "#Identity matrix _ Anii = 1 && Aij = 0\n",
        "#for all A Belongs to R MxN\n",
        "#Aij"
      ],
      "metadata": {
        "id": "5c5Dz5Qts5C0"
      },
      "execution_count": 12,
      "outputs": []
    },
    {
      "cell_type": "code",
      "source": [
        "# creating random matrices\n",
        "#With 0 and 1\n",
        "rand1 = np.random.rand(3,3)\n",
        "print(rand1)\n",
        "\n",
        "# between a and b\n",
        "rand2 = np.random.randint(10, 20,size=(3,3))\n",
        "print(rand2)"
      ],
      "metadata": {
        "id": "Nj7NmTdGs5Fw",
        "colab": {
          "base_uri": "https://localhost:8080/"
        },
        "outputId": "d7fb5b80-84be-41e6-c7d6-504964805cc8"
      },
      "execution_count": 13,
      "outputs": [
        {
          "output_type": "stream",
          "name": "stdout",
          "text": [
            "[[0.0570905  0.96036826 0.27656005]\n",
            " [0.5814878  0.47985278 0.14195653]\n",
            " [0.40307694 0.15861086 0.36603292]]\n",
            "[[16 11 16]\n",
            " [17 11 14]\n",
            " [12 19 19]]\n"
          ]
        }
      ]
    },
    {
      "cell_type": "code",
      "source": [
        "# Array Properties\n",
        "arr = np.array([[1,2,3,4],[1,4,5,6]])\n",
        "print(arr)\n",
        "\n",
        "# Shape of array\n",
        "print(f'\\nThe shape of the array is {arr.shape}')\n",
        "\n",
        "# Size of array\n",
        "print(f'The size of the array is {arr.size}')\n",
        "\n",
        "# Datatype of array\n",
        "print(f'The Data type of the array is {arr.dtype}')\n",
        "\n",
        "# Dimensions of array\n",
        "print(f'The Dimension of the array is {arr.ndim}')"
      ],
      "metadata": {
        "id": "GulL9BDGs5Iy",
        "colab": {
          "base_uri": "https://localhost:8080/"
        },
        "outputId": "c5f7c0b8-3f82-40f5-f1c5-e035982a7339"
      },
      "execution_count": 14,
      "outputs": [
        {
          "output_type": "stream",
          "name": "stdout",
          "text": [
            "[[1 2 3 4]\n",
            " [1 4 5 6]]\n",
            "\n",
            "The shape of the array is (2, 4)\n",
            "The size of the array is 8\n",
            "The Data type of the array is int64\n",
            "The Dimension of the array is 2\n"
          ]
        }
      ]
    },
    {
      "cell_type": "code",
      "source": [
        "# indexing and slicing\n",
        "\n",
        "#Access the elements in 1D Array\n",
        "\n",
        "arr = np.array([1,2,3,4])\n",
        "print(arr)\n",
        "print(arr[3])"
      ],
      "metadata": {
        "id": "voqkFax1s5Ll",
        "colab": {
          "base_uri": "https://localhost:8080/"
        },
        "outputId": "aa520104-de2c-413d-fd88-2ea8273e82ab"
      },
      "execution_count": 15,
      "outputs": [
        {
          "output_type": "stream",
          "name": "stdout",
          "text": [
            "[1 2 3 4]\n",
            "4\n"
          ]
        }
      ]
    },
    {
      "cell_type": "code",
      "source": [
        "# slicing the elements\n",
        "\n",
        "print(arr[0:3])\n",
        "\n",
        "# Access the element in 2D Array\n",
        "\n",
        "arr2 = np.array([[1,2,3],[2,3,4]])\n",
        "\n",
        "print(arr2)\n",
        "\n",
        "print(arr2[1,1])\n",
        "\n",
        "print(arr2[0,:])# First row with all columns\n",
        "\n",
        "print(arr2[:,0])# First column with all rows"
      ],
      "metadata": {
        "colab": {
          "base_uri": "https://localhost:8080/"
        },
        "id": "bMmJg9CYohuS",
        "outputId": "751e78e1-5dc3-4d46-dcba-5553255345e6"
      },
      "execution_count": 16,
      "outputs": [
        {
          "output_type": "stream",
          "name": "stdout",
          "text": [
            "[1 2 3]\n",
            "[[1 2 3]\n",
            " [2 3 4]]\n",
            "3\n",
            "[1 2 3]\n",
            "[1 2]\n"
          ]
        }
      ]
    },
    {
      "cell_type": "code",
      "source": [],
      "metadata": {
        "id": "ZqsJvnDMomIl"
      },
      "execution_count": null,
      "outputs": []
    }
  ]
}