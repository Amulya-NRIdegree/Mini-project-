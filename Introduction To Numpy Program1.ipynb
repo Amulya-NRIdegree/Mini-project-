{
  "nbformat": 4,
  "nbformat_minor": 0,
  "metadata": {
    "colab": {
      "provenance": [],
      "authorship_tag": "ABX9TyMetSRvyJFO4Zpw8sU+BUi8",
      "include_colab_link": true
    },
    "kernelspec": {
      "name": "python3",
      "display_name": "Python 3"
    },
    "language_info": {
      "name": "python"
    }
  },
  "cells": [
    {
      "cell_type": "markdown",
      "metadata": {
        "id": "view-in-github",
        "colab_type": "text"
      },
      "source": [
        "<a href=\"https://colab.research.google.com/github/Amulya-NRIdegree/Mini-project-/blob/main/Introduction%20To%20Numpy%20Program1.ipynb\" target=\"_parent\"><img src=\"https://colab.research.google.com/assets/colab-badge.svg\" alt=\"Open In Colab\"/></a>"
      ]
    },
    {
      "cell_type": "code",
      "execution_count": null,
      "metadata": {
        "id": "Zseszqqhs2zd"
      },
      "outputs": [],
      "source": [
        "#Numpy _ numeric python\n",
        "#Most powerfull package _ library\n",
        "#Numpy _ Dimensions\n",
        "#A _ one Dimensional Array\n",
        "#[A,B] || [A,\n",
        "         #  B] _ Two Dimensional Array _ Row || column\n",
        "# Three Dimensional\n",
        "#Array _ storing manipulating, similar Data type\n",
        "#Faster than any mathematical functions\n",
        "# Convincent compared to other packages\n",
        "# memory efficiency\n",
        "# support multi dimensional arrays\n",
        "# speed(numpy operations) > speed (lists operations)\n",
        "# size (numpy opretions) > size (lists operations)\n",
        "# memory(numpy)"
      ]
    },
    {
      "cell_type": "code",
      "source": [],
      "metadata": {
        "id": "iinCOL-Is6ZK"
      },
      "execution_count": null,
      "outputs": []
    },
    {
      "cell_type": "code",
      "source": [],
      "metadata": {
        "id": "ld_I_NdYs6gk"
      },
      "execution_count": null,
      "outputs": []
    },
    {
      "cell_type": "code",
      "source": [],
      "metadata": {
        "id": "mHYUjR9_s57a"
      },
      "execution_count": null,
      "outputs": []
    },
    {
      "cell_type": "code",
      "source": [],
      "metadata": {
        "id": "fm84GWWss5-A"
      },
      "execution_count": null,
      "outputs": []
    },
    {
      "cell_type": "code",
      "source": [],
      "metadata": {
        "id": "a4-1Uxc7s6AL"
      },
      "execution_count": null,
      "outputs": []
    },
    {
      "cell_type": "code",
      "source": [],
      "metadata": {
        "id": "2AEjpaNqs488"
      },
      "execution_count": null,
      "outputs": []
    },
    {
      "cell_type": "code",
      "source": [],
      "metadata": {
        "id": "B2C7JGX3s4_w"
      },
      "execution_count": null,
      "outputs": []
    },
    {
      "cell_type": "code",
      "source": [],
      "metadata": {
        "id": "5c5Dz5Qts5C0"
      },
      "execution_count": null,
      "outputs": []
    },
    {
      "cell_type": "code",
      "source": [],
      "metadata": {
        "id": "Nj7NmTdGs5Fw"
      },
      "execution_count": null,
      "outputs": []
    },
    {
      "cell_type": "code",
      "source": [],
      "metadata": {
        "id": "GulL9BDGs5Iy"
      },
      "execution_count": null,
      "outputs": []
    },
    {
      "cell_type": "code",
      "source": [],
      "metadata": {
        "id": "voqkFax1s5Ll"
      },
      "execution_count": null,
      "outputs": []
    }
  ]
}