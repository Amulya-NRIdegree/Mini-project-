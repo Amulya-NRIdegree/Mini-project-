{
  "nbformat": 4,
  "nbformat_minor": 0,
  "metadata": {
    "colab": {
      "provenance": [],
      "authorship_tag": "ABX9TyM19UdG4C3QlDvO4uwmg2jQ",
      "include_colab_link": true
    },
    "kernelspec": {
      "name": "python3",
      "display_name": "Python 3"
    },
    "language_info": {
      "name": "python"
    }
  },
  "cells": [
    {
      "cell_type": "markdown",
      "metadata": {
        "id": "view-in-github",
        "colab_type": "text"
      },
      "source": [
        "<a href=\"https://colab.research.google.com/github/Amulya-NRIdegree/Mini-project-/blob/main/Introduction%20To%20Numpy2.ipynb\" target=\"_parent\"><img src=\"https://colab.research.google.com/assets/colab-badge.svg\" alt=\"Open In Colab\"/></a>"
      ]
    },
    {
      "cell_type": "code",
      "execution_count": null,
      "metadata": {
        "id": "GeFVN2tpvczC"
      },
      "outputs": [],
      "source": [
        "import numpy as np"
      ]
    },
    {
      "cell_type": "code",
      "source": [
        "#Recap\n",
        "arr = np.array([[1,2,3],[4,5,6]])"
      ],
      "metadata": {
        "id": "hOEQo63xvhVy"
      },
      "execution_count": null,
      "outputs": []
    },
    {
      "cell_type": "code",
      "source": [
        "type(arr)"
      ],
      "metadata": {
        "colab": {
          "base_uri": "https://localhost:8080/"
        },
        "id": "2RUGIbD2vhuk",
        "outputId": "3544cd74-c839-48d4-aab9-6d971df39282"
      },
      "execution_count": null,
      "outputs": [
        {
          "output_type": "execute_result",
          "data": {
            "text/plain": [
              "numpy.ndarray"
            ]
          },
          "metadata": {},
          "execution_count": 7
        }
      ]
    },
    {
      "cell_type": "code",
      "source": [
        "#dot product _ m x n || n x p\n",
        "arr1 = np.random.randint (1,2,(3,1))"
      ],
      "metadata": {
        "id": "0falql2fviAD"
      },
      "execution_count": null,
      "outputs": []
    },
    {
      "cell_type": "code",
      "source": [
        "arr.shape"
      ],
      "metadata": {
        "colab": {
          "base_uri": "https://localhost:8080/"
        },
        "id": "zB6mqfmyviJ3",
        "outputId": "308c5c42-811a-4f49-d4d7-14fb28a94a11"
      },
      "execution_count": null,
      "outputs": [
        {
          "output_type": "execute_result",
          "data": {
            "text/plain": [
              "(2, 3)"
            ]
          },
          "metadata": {},
          "execution_count": 5
        }
      ]
    },
    {
      "cell_type": "code",
      "source": [
        "arr1.shape"
      ],
      "metadata": {
        "colab": {
          "base_uri": "https://localhost:8080/"
        },
        "id": "BGa6keugviXt",
        "outputId": "0d03c077-99df-4932-b72b-cc905b26db04"
      },
      "execution_count": null,
      "outputs": [
        {
          "output_type": "execute_result",
          "data": {
            "text/plain": [
              "(3, 1)"
            ]
          },
          "metadata": {},
          "execution_count": 6
        }
      ]
    },
    {
      "cell_type": "code",
      "source": [
        "result = np.dot(arr, arr1)"
      ],
      "metadata": {
        "id": "MjHsSn4HvfgY"
      },
      "execution_count": null,
      "outputs": []
    },
    {
      "cell_type": "code",
      "source": [
        "print(result)"
      ],
      "metadata": {
        "colab": {
          "base_uri": "https://localhost:8080/"
        },
        "id": "wIES5DMlvfip",
        "outputId": "993787cc-c948-4583-a098-40a84b386b14"
      },
      "execution_count": null,
      "outputs": [
        {
          "output_type": "stream",
          "name": "stdout",
          "text": [
            "[[ 6]\n",
            " [15]]\n"
          ]
        }
      ]
    },
    {
      "cell_type": "code",
      "source": [
        "r1 = np.random.randint(10,20,(3,3))\n",
        "print(r1)"
      ],
      "metadata": {
        "colab": {
          "base_uri": "https://localhost:8080/"
        },
        "id": "6kcbziPpvfla",
        "outputId": "11388554-ee3d-4228-bd77-60ac768e7abc"
      },
      "execution_count": null,
      "outputs": [
        {
          "output_type": "stream",
          "name": "stdout",
          "text": [
            "[[15 16 12]\n",
            " [16 19 17]\n",
            " [15 11 12]]\n"
          ]
        }
      ]
    },
    {
      "cell_type": "code",
      "source": [
        "r1 = np.random.randint(10,20,(3,3))\n",
        "print(r1)\n",
        "# Define r2 before using it.\n",
        "r2 = np.random.randint(10,20,(3,3))  # You might want to initialize r2 with appropriate values\n",
        "r1_inv = np.linalg.inv(r1)\n",
        "result2 = np.dot(r2, r1)\n",
        "print(result2)"
      ],
      "metadata": {
        "colab": {
          "base_uri": "https://localhost:8080/"
        },
        "id": "4Lxi3CR0vgQu",
        "outputId": "10e0dc93-eafb-4f63-a1ea-93565ecf4be2"
      },
      "execution_count": null,
      "outputs": [
        {
          "output_type": "stream",
          "name": "stdout",
          "text": [
            "[[12 18 15]\n",
            " [13 17 10]\n",
            " [13 16 19]]\n",
            "[[685 916 796]\n",
            " [549 722 651]\n",
            " [625 827 712]]\n"
          ]
        }
      ]
    },
    {
      "cell_type": "code",
      "source": [
        "#M . I = I . M = M"
      ],
      "metadata": {
        "id": "EO86nEOcvgZO"
      },
      "execution_count": null,
      "outputs": []
    },
    {
      "cell_type": "code",
      "source": [
        "#A . B != B . A"
      ],
      "metadata": {
        "id": "vK4eP_wovg5N"
      },
      "execution_count": null,
      "outputs": []
    },
    {
      "cell_type": "code",
      "source": [
        "# Mathematical operations\n",
        "# + - * /"
      ],
      "metadata": {
        "id": "logQBjeHwinD"
      },
      "execution_count": null,
      "outputs": []
    },
    {
      "cell_type": "code",
      "source": [
        "t1 = np.random.randint(3,6,(3,3))\n",
        "t2 = np.random.randint(3,6,(3,3))"
      ],
      "metadata": {
        "id": "TzMozozHwmlF"
      },
      "execution_count": null,
      "outputs": []
    },
    {
      "cell_type": "code",
      "source": [
        " print(t1)\n",
        "print(t2)"
      ],
      "metadata": {
        "colab": {
          "base_uri": "https://localhost:8080/"
        },
        "id": "-6mUbBxXwiuH",
        "outputId": "1bc428a1-7088-4af7-bfc1-bf1589849428"
      },
      "execution_count": null,
      "outputs": [
        {
          "output_type": "stream",
          "name": "stdout",
          "text": [
            "[[4 4 5]\n",
            " [4 5 3]\n",
            " [3 5 3]]\n",
            "[[5 4 3]\n",
            " [5 4 5]\n",
            " [4 4 4]]\n"
          ]
        }
      ]
    },
    {
      "cell_type": "code",
      "source": [
        "t3 = t1 + t2\n",
        "print(t3)"
      ],
      "metadata": {
        "colab": {
          "base_uri": "https://localhost:8080/"
        },
        "id": "sCHM4cJkw9Kv",
        "outputId": "e902bbcb-7007-47f6-c2c1-483ce1ba3831"
      },
      "execution_count": null,
      "outputs": [
        {
          "output_type": "stream",
          "name": "stdout",
          "text": [
            "[[9 8 8]\n",
            " [7 7 7]\n",
            " [8 7 7]]\n"
          ]
        }
      ]
    },
    {
      "cell_type": "code",
      "source": [
        "# matrix multiplication\n",
        "result = np.dot(arr,arr1)"
      ],
      "metadata": {
        "id": "QL2U_ICOw99V"
      },
      "execution_count": null,
      "outputs": []
    },
    {
      "cell_type": "code",
      "source": [
        "# statistical operations"
      ],
      "metadata": {
        "id": "OOSGNs0KxGRM"
      },
      "execution_count": null,
      "outputs": []
    },
    {
      "cell_type": "code",
      "source": [
        "mean = t3.mean()\n",
        "mode = t3.max()\n",
        "median = np.median(t3)\n",
        "std = np.std(t3)\n",
        "Var = np.var(t3)"
      ],
      "metadata": {
        "id": "HbREEBL_xKKw"
      },
      "execution_count": null,
      "outputs": []
    },
    {
      "cell_type": "code",
      "source": [
        "print(mean)\n",
        "print(mode)\n",
        "print(median)\n",
        "print(std)\n",
        "print(Var)"
      ],
      "metadata": {
        "colab": {
          "base_uri": "https://localhost:8080/"
        },
        "id": "o47lcsFPxKZt",
        "outputId": "df630eed-1a53-447c-e932-153ed77030f9"
      },
      "execution_count": null,
      "outputs": [
        {
          "output_type": "stream",
          "name": "stdout",
          "text": [
            "7.555555555555555\n",
            "9\n",
            "7.0\n",
            "0.6849348892187751\n",
            "0.4691358024691357\n"
          ]
        }
      ]
    },
    {
      "cell_type": "code",
      "source": [
        "print(std)"
      ],
      "metadata": {
        "colab": {
          "base_uri": "https://localhost:8080/"
        },
        "id": "FnuEqDdAxKpu",
        "outputId": "8abd39c5-c894-4e04-a4b6-d4324b7fdae5"
      },
      "execution_count": null,
      "outputs": [
        {
          "output_type": "stream",
          "name": "stdout",
          "text": [
            "0.6849348892187751\n"
          ]
        }
      ]
    },
    {
      "cell_type": "code",
      "source": [
        "std*std"
      ],
      "metadata": {
        "colab": {
          "base_uri": "https://localhost:8080/"
        },
        "id": "KUSJhNoVxaZr",
        "outputId": "8bffb6bb-10d4-4bde-b3cf-1fbd458f14e4"
      },
      "execution_count": null,
      "outputs": [
        {
          "output_type": "execute_result",
          "data": {
            "text/plain": [
              "0.4691358024691357"
            ]
          },
          "metadata": {},
          "execution_count": 25
        }
      ]
    },
    {
      "cell_type": "code",
      "source": [
        "# Trigonometric functions"
      ],
      "metadata": {
        "id": "KIt_Bsf6xeM1"
      },
      "execution_count": null,
      "outputs": []
    },
    {
      "cell_type": "code",
      "source": [
        "# sin(x)\n",
        "# cos(x)\n",
        "# tan(x) _ sin(x)\\ cos(x)\n",
        "# cosec _ 1\\sin(x)\n",
        "# sen _ 1\\ cos(x)\n",
        "# cot _ 1 \\ tan(x)\n",
        "\n",
        "#\n",
        "angles = np.array([0,15,30,45,60,75,90])\n",
        "# sin(array)\n",
        "result = np.sin(np.radians(angles))\n",
        "result1= np.cos(np.radians(angles))\n",
        "result2= np.tan(np.radians(angles))"
      ],
      "metadata": {
        "id": "WukDUZsdxeeC"
      },
      "execution_count": null,
      "outputs": []
    },
    {
      "cell_type": "code",
      "source": [
        "print(result)\n",
        "print(result1)\n",
        "print(result2)"
      ],
      "metadata": {
        "colab": {
          "base_uri": "https://localhost:8080/"
        },
        "id": "XM09czx4xmSN",
        "outputId": "bf6807cb-b716-4707-844c-62ebc2ae1307"
      },
      "execution_count": null,
      "outputs": [
        {
          "output_type": "stream",
          "name": "stdout",
          "text": [
            "[0.         0.25881905 0.5        0.70710678 0.8660254  0.96592583\n",
            " 1.        ]\n",
            "[1.00000000e+00 9.65925826e-01 8.66025404e-01 7.07106781e-01\n",
            " 5.00000000e-01 2.58819045e-01 6.12323400e-17]\n",
            "[0.00000000e+00 2.67949192e-01 5.77350269e-01 1.00000000e+00\n",
            " 1.73205081e+00 3.73205081e+00 1.63312394e+16]\n"
          ]
        }
      ]
    },
    {
      "cell_type": "code",
      "source": [
        "arr = np.array([1,2,3,4,5,6])\n",
        "\n",
        "# Reshape the array\n",
        "reshapedarr = arr.reshape(3,2)\n",
        "\n",
        "print(reshapedarr)\n",
        "\n",
        "# Convert / Flatten any n dim array\n",
        "flattenedarr = arr.flatten()\n",
        "\n",
        "print(flattenedarr)"
      ],
      "metadata": {
        "colab": {
          "base_uri": "https://localhost:8080/"
        },
        "id": "RjdjcMjFxeuI",
        "outputId": "e81c7f00-aaad-4d2b-f160-dd6d95c793ad"
      },
      "execution_count": null,
      "outputs": [
        {
          "output_type": "stream",
          "name": "stdout",
          "text": [
            "[[1 2]\n",
            " [3 4]\n",
            " [5 6]]\n",
            "[1 2 3 4 5 6]\n"
          ]
        }
      ]
    },
    {
      "cell_type": "code",
      "source": [
        "#Stacking the data\n",
        "import numpy as np\n",
        "arr1 = np.array([1,2,3,4])\n",
        "arr2 = np.array([10,20,30,40])\n",
        "arr3 = np.vstack((arr1,arr2))\n",
        "print(f\" The shape of arr3 is {arr3.shape}\")\n",
        "\n",
        "# Horizontal stacking\n",
        "arr4 = np.hstack((arr1,arr2))\n",
        "print(f\"The shape of arr4 is {arr4.shape}\")\n",
        "print(arr4)"
      ],
      "metadata": {
        "colab": {
          "base_uri": "https://localhost:8080/"
        },
        "id": "EzGY7Rqjxv-b",
        "outputId": "c985f6d1-a5f1-4097-fe54-f72f0c64bffe"
      },
      "execution_count": null,
      "outputs": [
        {
          "output_type": "stream",
          "name": "stdout",
          "text": [
            " The shape of arr3 is (2, 4)\n",
            "The shape of arr4 is (8,)\n",
            "[ 1  2  3  4 10 20 30 40]\n"
          ]
        }
      ]
    },
    {
      "cell_type": "code",
      "source": [
        "#Filtering\n",
        "arr = np.array([10,20,30,40,50,60,70,80])\n",
        "farr = arr[arr > 40]\n",
        "\n",
        "print(farr)"
      ],
      "metadata": {
        "colab": {
          "base_uri": "https://localhost:8080/"
        },
        "id": "cOfO54_Tx1jS",
        "outputId": "b3b482ab-ed2d-47c2-fe9e-e2cce65a8288"
      },
      "execution_count": null,
      "outputs": [
        {
          "output_type": "stream",
          "name": "stdout",
          "text": [
            "[50 60 70 80]\n"
          ]
        }
      ]
    }
  ]
}